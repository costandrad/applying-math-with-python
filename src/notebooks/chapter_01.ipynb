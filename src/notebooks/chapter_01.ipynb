{
 "cells": [
  {
   "cell_type": "markdown",
   "id": "7281760b",
   "metadata": {},
   "source": [
    "# 1. Pacotes Básicos, Funções, e Conceitos\n",
    "_(Basic Packages, Functions, and Concepts)_"
   ]
  },
  {
   "cell_type": "markdown",
   "id": "7587683c",
   "metadata": {},
   "source": [
    "## Tipos numéricos em Python"
   ]
  },
  {
   "cell_type": "markdown",
   "id": "8bb99e01",
   "metadata": {},
   "source": [
    "### Tipo Decimal"
   ]
  },
  {
   "cell_type": "code",
   "execution_count": 1,
   "id": "fc8f5042",
   "metadata": {},
   "outputs": [
    {
     "data": {
      "text/plain": [
       "Decimal('2.663')"
      ]
     },
     "execution_count": 1,
     "metadata": {},
     "output_type": "execute_result"
    }
   ],
   "source": [
    "from decimal import Decimal\n",
    "\n",
    "num1, num2 = Decimal('1.1'), Decimal('1.563')\n",
    "num1 + num2"
   ]
  },
  {
   "cell_type": "code",
   "execution_count": 2,
   "id": "5a4f3421",
   "metadata": {},
   "outputs": [
    {
     "name": "stdout",
     "output_type": "stream",
     "text": [
      "1.4641\n",
      "1.464\n"
     ]
    }
   ],
   "source": [
    "from decimal import getcontext\n",
    "ctx = getcontext()\n",
    "num = Decimal('1.1')\n",
    "print(num**4)\n",
    "ctx.prec = 4\n",
    "print(num**4)"
   ]
  },
  {
   "cell_type": "code",
   "execution_count": 3,
   "id": "a9f24f5e",
   "metadata": {},
   "outputs": [
    {
     "name": "stdout",
     "output_type": "stream",
     "text": [
      "1.5\n",
      "1.464\n"
     ]
    }
   ],
   "source": [
    "from decimal import localcontext\n",
    "num = Decimal('1.1')\n",
    "with localcontext() as ctx:\n",
    "    ctx.prec = 2\n",
    "    print(num**4)\n",
    "print(num**4)"
   ]
  },
  {
   "cell_type": "markdown",
   "id": "730d4e58",
   "metadata": {},
   "source": [
    "### Tipo Fraction"
   ]
  },
  {
   "cell_type": "code",
   "execution_count": 4,
   "id": "e439d3eb",
   "metadata": {},
   "outputs": [
    {
     "data": {
      "text/plain": [
       "Fraction(10, 21)"
      ]
     },
     "execution_count": 4,
     "metadata": {},
     "output_type": "execute_result"
    }
   ],
   "source": [
    "from fractions import Fraction\n",
    "num1, num2 = Fraction(1,3), Fraction(1,7)\n",
    "num1 + num2"
   ]
  },
  {
   "cell_type": "markdown",
   "id": "b90b9c14",
   "metadata": {},
   "source": [
    "### Tipo Complex"
   ]
  },
  {
   "cell_type": "code",
   "execution_count": 5,
   "id": "e0cdbce1",
   "metadata": {},
   "outputs": [
    {
     "name": "stdout",
     "output_type": "stream",
     "text": [
      "(3+1j)\n",
      "(1-1j)\n"
     ]
    }
   ],
   "source": [
    "z = 1 + 1j\n",
    "print(z+2)\n",
    "print(z.conjugate())"
   ]
  },
  {
   "cell_type": "markdown",
   "id": "7100812b",
   "metadata": {},
   "source": [
    "## Matemática Básica"
   ]
  },
  {
   "cell_type": "code",
   "execution_count": null,
   "id": "12086add",
   "metadata": {},
   "outputs": [],
   "source": [
    "import math"
   ]
  },
  {
   "cell_type": "code",
   "execution_count": 7,
   "id": "e1da089b",
   "metadata": {},
   "outputs": [
    {
     "data": {
      "text/plain": [
       "2.0"
      ]
     },
     "execution_count": 7,
     "metadata": {},
     "output_type": "execute_result"
    }
   ],
   "source": [
    "math.sqrt(4)"
   ]
  },
  {
   "cell_type": "code",
   "execution_count": 8,
   "id": "de4e33c9",
   "metadata": {},
   "outputs": [],
   "source": [
    "from math import pi"
   ]
  },
  {
   "cell_type": "code",
   "execution_count": 24,
   "id": "fe8dc2ea",
   "metadata": {},
   "outputs": [
    {
     "name": "stdout",
     "output_type": "stream",
     "text": [
      "====================================\n",
      "   Cosseno |       Seno |   Tangente\n",
      "------------------------------------\n",
      "  0.707107 |   0.707107 |   1.000000\n",
      "====================================\n"
     ]
    }
   ],
   "source": [
    "theta = pi/4\n",
    "print(f\"\"\"{36*'='}\n",
    "{'Cosseno':>10s} | {'Seno':>10s} | {'Tangente':>10s}\n",
    "{36*'-'}\n",
    "{math.cos(theta):10.6f} | {math.sin(theta):10.6f} | {math.tan(theta):10.6f}\n",
    "{36*'='}\"\"\")"
   ]
  },
  {
   "cell_type": "markdown",
   "id": "b0206b64",
   "metadata": {},
   "source": [
    "O módulo `math` também contém a função `gamma`, que é a função Gama, e a função `erf`, função erro Gaussiano, importantes em estatística. A função Gama é dada pela integral:\n",
    "\n",
    "$$\n",
    "\\Gamma(s) = \\int_{0}^{\\infty} t^{s-1}e^{-t} dt\n",
    "$$\n",
    "\n",
    "e a fnção erro é definida por:\n",
    "\n",
    "$$\n",
    "\\text{erf}(x) = \\dfrac{2}{\\sqrt{x}}\\int_{0}^{\\pi} e^{-t^2} dt\n",
    "$$"
   ]
  },
  {
   "cell_type": "code",
   "execution_count": 25,
   "id": "34e7db69",
   "metadata": {},
   "outputs": [
    {
     "data": {
      "text/plain": [
       "24.0"
      ]
     },
     "execution_count": 25,
     "metadata": {},
     "output_type": "execute_result"
    }
   ],
   "source": [
    "math.gamma(5)"
   ]
  },
  {
   "cell_type": "code",
   "execution_count": 26,
   "id": "98b60d74",
   "metadata": {},
   "outputs": [
    {
     "data": {
      "text/plain": [
       "0.9953222650189527"
      ]
     },
     "execution_count": 26,
     "metadata": {},
     "output_type": "execute_result"
    }
   ],
   "source": [
    "math.erf(2)"
   ]
  },
  {
   "cell_type": "code",
   "execution_count": null,
   "id": "e71bcb47",
   "metadata": {},
   "outputs": [],
   "source": []
  }
 ],
 "metadata": {
  "kernelspec": {
   "display_name": "venv",
   "language": "python",
   "name": "python3"
  },
  "language_info": {
   "codemirror_mode": {
    "name": "ipython",
    "version": 3
   },
   "file_extension": ".py",
   "mimetype": "text/x-python",
   "name": "python",
   "nbconvert_exporter": "python",
   "pygments_lexer": "ipython3",
   "version": "3.12.7"
  }
 },
 "nbformat": 4,
 "nbformat_minor": 5
}
